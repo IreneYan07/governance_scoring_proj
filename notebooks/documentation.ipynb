{
 "cells": [
  {
   "cell_type": "markdown",
   "id": "a00a8b05",
   "metadata": {},
   "source": [
    "# Governance Database Extraction and Preprocessing\n",
    "\n",
    "Governance Database Proj retrieves data directly from OPENDART to build a database of KOSPI-listed corporations and executive status available through posted disclosures. \n",
    "\n",
    "### Environment Set Up \n",
    "Runs on Python 3.13.5. The cell below will check that the current kernel is using the correct Python version and raise an error otherwise. To set a virtual environment, execute the following lines in the terminal: \n",
    "\n",
    "    python3.13.5 -m venv virtualenv\n",
    "\n",
    "    virtualenv\\Scripts\\activate"
   ]
  },
  {
   "cell_type": "code",
   "execution_count": 4,
   "id": "d23a744a",
   "metadata": {},
   "outputs": [],
   "source": [
    "import sys\n",
    "assert sys.version_info >= (3, 13, 5)"
   ]
  },
  {
   "cell_type": "markdown",
   "id": "b0ca9e5e",
   "metadata": {},
   "source": [
    "## Outputs\n",
    "\n",
    "By the end of the project, the following two databases will be produced: \n",
    "1. **executive_df**, providing details on the 15k+ listed executives, including information such as registered officer status, shareholder relations, salary, and professional experience.\n",
    "\n",
    "2. **summary_df**,  a grouped dataset across corp-level information, including number of directory types, audit committee size, and total assets from the past three years (used to determine audit committee mandate).\n",
    " "
   ]
  },
  {
   "cell_type": "markdown",
   "id": "95f5cbc9",
   "metadata": {},
   "source": []
  }
 ],
 "metadata": {
  "kernelspec": {
   "display_name": "Python 3",
   "language": "python",
   "name": "python3"
  },
  "language_info": {
   "codemirror_mode": {
    "name": "ipython",
    "version": 3
   },
   "file_extension": ".py",
   "mimetype": "text/x-python",
   "name": "python",
   "nbconvert_exporter": "python",
   "pygments_lexer": "ipython3",
   "version": "3.13.5"
  }
 },
 "nbformat": 4,
 "nbformat_minor": 5
}
